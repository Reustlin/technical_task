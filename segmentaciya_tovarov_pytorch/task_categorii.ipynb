{
  "cells": [
    {
      "cell_type": "markdown",
      "metadata": {
        "id": "view-in-github",
        "colab_type": "text"
      },
      "source": [
        "<a href=\"https://colab.research.google.com/github/Reustlin/technical_task/blob/main/task_categorii.ipynb\" target=\"_parent\"><img src=\"https://colab.research.google.com/assets/colab-badge.svg\" alt=\"Open In Colab\"/></a>"
      ]
    },
    {
      "cell_type": "markdown",
      "metadata": {
        "id": "ujPflkaCkM2P"
      },
      "source": [
        "Создайте модель, обрабатывающую фрагмент текста и определяющую\n",
        "какой вид продукции в нём содержится.\n",
        "\n",
        "Виды продукции (брать только виды продукции, для которых в датасете есть не менее 500 примеров):\n",
        "\n",
        "* Баранина\n",
        "* Ягнятина\n",
        "* Индейка\n",
        "* Говядина\n",
        "* Свинина\n",
        "* Кура\n",
        "* Цыпленок\n",
        "* Гусь\n",
        "* Буйволятина\n",
        "* Оленина\n",
        "* Конина\n",
        "* Телятина\n",
        "* Кролик\n",
        "* Утка\n",
        "* Куропатка\n",
        "* Перепел\n",
        "* Глухарь\n",
        "* Страус\n",
        "* Заяц\n",
        "* Кенгуру\n",
        "* Изюбр\n",
        "* Кабан\n",
        "* Коза\n",
        "* Косуля\n",
        "* Лось\n",
        "* Марал\n",
        "* Медвежатина\n",
        "* Бобер\n",
        "* Цесарка\n",
        "* Нутрия\n",
        "* Рябчик\n",
        "* Тетерев\n",
        "* Фазан\n",
        "* Як\n",
        "\n",
        "\n"
      ]
    },
    {
      "cell_type": "code",
      "execution_count": null,
      "metadata": {
        "colab": {
          "base_uri": "https://localhost:8080/"
        },
        "id": "i5zSDFqE4SSC",
        "outputId": "d1cdd8f8-5d2d-449a-87b0-5b407d18fa1b"
      },
      "outputs": [
        {
          "output_type": "stream",
          "name": "stdout",
          "text": [
            "Looking in indexes: https://pypi.org/simple, https://us-python.pkg.dev/colab-wheels/public/simple/\n",
            "Requirement already satisfied: pymorphy2 in /usr/local/lib/python3.10/dist-packages (0.9.1)\n",
            "Requirement already satisfied: dawg-python>=0.7.1 in /usr/local/lib/python3.10/dist-packages (from pymorphy2) (0.7.2)\n",
            "Requirement already satisfied: pymorphy2-dicts-ru<3.0,>=2.4 in /usr/local/lib/python3.10/dist-packages (from pymorphy2) (2.4.417127.4579844)\n",
            "Requirement already satisfied: docopt>=0.6 in /usr/local/lib/python3.10/dist-packages (from pymorphy2) (0.6.2)\n"
          ]
        }
      ],
      "source": [
        "!pip install pymorphy2"
      ]
    },
    {
      "cell_type": "code",
      "execution_count": null,
      "metadata": {
        "id": "0GN4VhMKjxV-"
      },
      "outputs": [],
      "source": [
        "import pandas as pd\n",
        "import numpy as np\n",
        "import re\n",
        "\n",
        "import torch\n",
        "import torch.nn as nn\n",
        "import torch.optim as optim\n",
        "from torch.utils.data import Dataset, DataLoader\n",
        "from torch.nn.utils.rnn import pad_sequence\n",
        "\n",
        "import pymorphy2\n",
        "import nltk\n",
        "\n",
        "from sklearn.model_selection import train_test_split"
      ]
    },
    {
      "cell_type": "code",
      "execution_count": null,
      "metadata": {
        "id": "UzaMgvxvkaTG"
      },
      "outputs": [],
      "source": [
        "data = pd.read_csv('/content/drive/MyDrive/meatinfo.csv', sep = ';')"
      ]
    },
    {
      "cell_type": "code",
      "execution_count": null,
      "metadata": {
        "colab": {
          "base_uri": "https://localhost:8080/",
          "height": 206
        },
        "id": "cAA7p_AbkjoQ",
        "outputId": "6e4c45c3-48e0-4f57-dd22-44b1327cff0e"
      },
      "outputs": [
        {
          "output_type": "execute_result",
          "data": {
            "text/plain": [
              "                                      text     mtype\n",
              "0   12 частей баранина  12 частей баранина  Баранина\n",
              "1  Баранина, 12 частей, зам. цена 260 руб.  Баранина\n",
              "2  Баранина, 12 частей, зам. цена 315 руб.  Баранина\n",
              "3                Баранина, 12 частей, охл.  Баранина\n",
              "4  Баранина, 12 частей, охл. цена 220 руб.  Баранина"
            ],
            "text/html": [
              "\n",
              "  <div id=\"df-6566f919-cd13-4f3c-9822-cbdcfc3fcafe\">\n",
              "    <div class=\"colab-df-container\">\n",
              "      <div>\n",
              "<style scoped>\n",
              "    .dataframe tbody tr th:only-of-type {\n",
              "        vertical-align: middle;\n",
              "    }\n",
              "\n",
              "    .dataframe tbody tr th {\n",
              "        vertical-align: top;\n",
              "    }\n",
              "\n",
              "    .dataframe thead th {\n",
              "        text-align: right;\n",
              "    }\n",
              "</style>\n",
              "<table border=\"1\" class=\"dataframe\">\n",
              "  <thead>\n",
              "    <tr style=\"text-align: right;\">\n",
              "      <th></th>\n",
              "      <th>text</th>\n",
              "      <th>mtype</th>\n",
              "    </tr>\n",
              "  </thead>\n",
              "  <tbody>\n",
              "    <tr>\n",
              "      <th>0</th>\n",
              "      <td>12 частей баранина  12 частей баранина</td>\n",
              "      <td>Баранина</td>\n",
              "    </tr>\n",
              "    <tr>\n",
              "      <th>1</th>\n",
              "      <td>Баранина, 12 частей, зам. цена 260 руб.</td>\n",
              "      <td>Баранина</td>\n",
              "    </tr>\n",
              "    <tr>\n",
              "      <th>2</th>\n",
              "      <td>Баранина, 12 частей, зам. цена 315 руб.</td>\n",
              "      <td>Баранина</td>\n",
              "    </tr>\n",
              "    <tr>\n",
              "      <th>3</th>\n",
              "      <td>Баранина, 12 частей, охл.</td>\n",
              "      <td>Баранина</td>\n",
              "    </tr>\n",
              "    <tr>\n",
              "      <th>4</th>\n",
              "      <td>Баранина, 12 частей, охл. цена 220 руб.</td>\n",
              "      <td>Баранина</td>\n",
              "    </tr>\n",
              "  </tbody>\n",
              "</table>\n",
              "</div>\n",
              "      <button class=\"colab-df-convert\" onclick=\"convertToInteractive('df-6566f919-cd13-4f3c-9822-cbdcfc3fcafe')\"\n",
              "              title=\"Convert this dataframe to an interactive table.\"\n",
              "              style=\"display:none;\">\n",
              "        \n",
              "  <svg xmlns=\"http://www.w3.org/2000/svg\" height=\"24px\"viewBox=\"0 0 24 24\"\n",
              "       width=\"24px\">\n",
              "    <path d=\"M0 0h24v24H0V0z\" fill=\"none\"/>\n",
              "    <path d=\"M18.56 5.44l.94 2.06.94-2.06 2.06-.94-2.06-.94-.94-2.06-.94 2.06-2.06.94zm-11 1L8.5 8.5l.94-2.06 2.06-.94-2.06-.94L8.5 2.5l-.94 2.06-2.06.94zm10 10l.94 2.06.94-2.06 2.06-.94-2.06-.94-.94-2.06-.94 2.06-2.06.94z\"/><path d=\"M17.41 7.96l-1.37-1.37c-.4-.4-.92-.59-1.43-.59-.52 0-1.04.2-1.43.59L10.3 9.45l-7.72 7.72c-.78.78-.78 2.05 0 2.83L4 21.41c.39.39.9.59 1.41.59.51 0 1.02-.2 1.41-.59l7.78-7.78 2.81-2.81c.8-.78.8-2.07 0-2.86zM5.41 20L4 18.59l7.72-7.72 1.47 1.35L5.41 20z\"/>\n",
              "  </svg>\n",
              "      </button>\n",
              "      \n",
              "  <style>\n",
              "    .colab-df-container {\n",
              "      display:flex;\n",
              "      flex-wrap:wrap;\n",
              "      gap: 12px;\n",
              "    }\n",
              "\n",
              "    .colab-df-convert {\n",
              "      background-color: #E8F0FE;\n",
              "      border: none;\n",
              "      border-radius: 50%;\n",
              "      cursor: pointer;\n",
              "      display: none;\n",
              "      fill: #1967D2;\n",
              "      height: 32px;\n",
              "      padding: 0 0 0 0;\n",
              "      width: 32px;\n",
              "    }\n",
              "\n",
              "    .colab-df-convert:hover {\n",
              "      background-color: #E2EBFA;\n",
              "      box-shadow: 0px 1px 2px rgba(60, 64, 67, 0.3), 0px 1px 3px 1px rgba(60, 64, 67, 0.15);\n",
              "      fill: #174EA6;\n",
              "    }\n",
              "\n",
              "    [theme=dark] .colab-df-convert {\n",
              "      background-color: #3B4455;\n",
              "      fill: #D2E3FC;\n",
              "    }\n",
              "\n",
              "    [theme=dark] .colab-df-convert:hover {\n",
              "      background-color: #434B5C;\n",
              "      box-shadow: 0px 1px 3px 1px rgba(0, 0, 0, 0.15);\n",
              "      filter: drop-shadow(0px 1px 2px rgba(0, 0, 0, 0.3));\n",
              "      fill: #FFFFFF;\n",
              "    }\n",
              "  </style>\n",
              "\n",
              "      <script>\n",
              "        const buttonEl =\n",
              "          document.querySelector('#df-6566f919-cd13-4f3c-9822-cbdcfc3fcafe button.colab-df-convert');\n",
              "        buttonEl.style.display =\n",
              "          google.colab.kernel.accessAllowed ? 'block' : 'none';\n",
              "\n",
              "        async function convertToInteractive(key) {\n",
              "          const element = document.querySelector('#df-6566f919-cd13-4f3c-9822-cbdcfc3fcafe');\n",
              "          const dataTable =\n",
              "            await google.colab.kernel.invokeFunction('convertToInteractive',\n",
              "                                                     [key], {});\n",
              "          if (!dataTable) return;\n",
              "\n",
              "          const docLinkHtml = 'Like what you see? Visit the ' +\n",
              "            '<a target=\"_blank\" href=https://colab.research.google.com/notebooks/data_table.ipynb>data table notebook</a>'\n",
              "            + ' to learn more about interactive tables.';\n",
              "          element.innerHTML = '';\n",
              "          dataTable['output_type'] = 'display_data';\n",
              "          await google.colab.output.renderOutput(dataTable, element);\n",
              "          const docLink = document.createElement('div');\n",
              "          docLink.innerHTML = docLinkHtml;\n",
              "          element.appendChild(docLink);\n",
              "        }\n",
              "      </script>\n",
              "    </div>\n",
              "  </div>\n",
              "  "
            ]
          },
          "metadata": {},
          "execution_count": 4
        }
      ],
      "source": [
        "data.head()"
      ]
    },
    {
      "cell_type": "code",
      "execution_count": null,
      "metadata": {
        "colab": {
          "base_uri": "https://localhost:8080/"
        },
        "id": "Ee0UXXhQkjwB",
        "outputId": "7513b744-dbbc-4ba6-8158-ee5d1ae6244c"
      },
      "outputs": [
        {
          "output_type": "stream",
          "name": "stdout",
          "text": [
            "<class 'pandas.core.frame.DataFrame'>\n",
            "RangeIndex: 17893 entries, 0 to 17892\n",
            "Data columns (total 2 columns):\n",
            " #   Column  Non-Null Count  Dtype \n",
            "---  ------  --------------  ----- \n",
            " 0   text    17893 non-null  object\n",
            " 1   mtype   17892 non-null  object\n",
            "dtypes: object(2)\n",
            "memory usage: 279.7+ KB\n"
          ]
        }
      ],
      "source": [
        "data.info()"
      ]
    },
    {
      "cell_type": "code",
      "execution_count": null,
      "metadata": {
        "id": "TyPYQ3f4kjzG"
      },
      "outputs": [],
      "source": [
        "inf = data.groupby('mtype').size().reset_index(name='Count').sort_values(by='Count', ascending=False)"
      ]
    },
    {
      "cell_type": "code",
      "execution_count": null,
      "metadata": {
        "colab": {
          "base_uri": "https://localhost:8080/",
          "height": 1000
        },
        "id": "CGIw4Ddykj12",
        "outputId": "9751db77-dcaf-4e25-bfb3-5afc87e0fe99"
      },
      "outputs": [
        {
          "output_type": "execute_result",
          "data": {
            "text/plain": [
              "                                                mtype  Count\n",
              "11                                           Говядина   8422\n",
              "33                                            Свинина   3050\n",
              "23                                               Кура   1571\n",
              "16                                            Индейка   1337\n",
              "7                                            Баранина   1116\n",
              "40                                           Цыпленок    942\n",
              "22                                             Кролик    334\n",
              "37                                               Утка    195\n",
              "29                                            Оленина    193\n",
              "20                                             Конина    176\n",
              "13                                               Гусь    125\n",
              "35                                           Телятина     98\n",
              "41                                           Ягнятина     76\n",
              "9                                         Буйволятина     75\n",
              "31                                            Перепел     54\n",
              "17                                              Кабан     24\n",
              "25                                               Лось     20\n",
              "34                                             Страус     10\n",
              "21                                             Косуля      8\n",
              "26                                              Марал      7\n",
              "24                                          Куропатка      7\n",
              "39                                            Цесарка      7\n",
              "38                                              Фазан      4\n",
              "27                                        Медвежатина      4\n",
              "15                                              Изюбр      3\n",
              "46                                            свинина      3\n",
              "42                                                 Як      2\n",
              "44                                            индейка      2\n",
              "30                                           Парагвай      2\n",
              "48                                           цыпленок      2\n",
              "28                                             Нутрия      2\n",
              "18                                            Кенгуру      2\n",
              "14                                               Заяц      2\n",
              "4                                              Feb-20      2\n",
              "5                                              Mar-20      1\n",
              "47                                               утка      1\n",
              "2                                               125р.      1\n",
              "45                                            свиниеа      1\n",
              "3                                       295,00 руб|кг      1\n",
              "43                                           говядина      1\n",
              "8                                               Бобер      1\n",
              "6                           OFFAL EXP №4407 Аргентина      1\n",
              "1                         (OFFAL EXP №4407 Аргентина)      1\n",
              "10                                            Глухарь      1\n",
              "12  Говядина, полутуши, 1 категория,  охл., Россия...      1\n",
              "36                                            Тетерев      1\n",
              "19                                               Коза      1\n",
              "32                                             Рябчик      1\n",
              "0                    Лопаточная часть (Chuck) буйвол       1"
            ],
            "text/html": [
              "\n",
              "  <div id=\"df-fa4deb47-0647-42dc-86e0-f4642ebc6752\">\n",
              "    <div class=\"colab-df-container\">\n",
              "      <div>\n",
              "<style scoped>\n",
              "    .dataframe tbody tr th:only-of-type {\n",
              "        vertical-align: middle;\n",
              "    }\n",
              "\n",
              "    .dataframe tbody tr th {\n",
              "        vertical-align: top;\n",
              "    }\n",
              "\n",
              "    .dataframe thead th {\n",
              "        text-align: right;\n",
              "    }\n",
              "</style>\n",
              "<table border=\"1\" class=\"dataframe\">\n",
              "  <thead>\n",
              "    <tr style=\"text-align: right;\">\n",
              "      <th></th>\n",
              "      <th>mtype</th>\n",
              "      <th>Count</th>\n",
              "    </tr>\n",
              "  </thead>\n",
              "  <tbody>\n",
              "    <tr>\n",
              "      <th>11</th>\n",
              "      <td>Говядина</td>\n",
              "      <td>8422</td>\n",
              "    </tr>\n",
              "    <tr>\n",
              "      <th>33</th>\n",
              "      <td>Свинина</td>\n",
              "      <td>3050</td>\n",
              "    </tr>\n",
              "    <tr>\n",
              "      <th>23</th>\n",
              "      <td>Кура</td>\n",
              "      <td>1571</td>\n",
              "    </tr>\n",
              "    <tr>\n",
              "      <th>16</th>\n",
              "      <td>Индейка</td>\n",
              "      <td>1337</td>\n",
              "    </tr>\n",
              "    <tr>\n",
              "      <th>7</th>\n",
              "      <td>Баранина</td>\n",
              "      <td>1116</td>\n",
              "    </tr>\n",
              "    <tr>\n",
              "      <th>40</th>\n",
              "      <td>Цыпленок</td>\n",
              "      <td>942</td>\n",
              "    </tr>\n",
              "    <tr>\n",
              "      <th>22</th>\n",
              "      <td>Кролик</td>\n",
              "      <td>334</td>\n",
              "    </tr>\n",
              "    <tr>\n",
              "      <th>37</th>\n",
              "      <td>Утка</td>\n",
              "      <td>195</td>\n",
              "    </tr>\n",
              "    <tr>\n",
              "      <th>29</th>\n",
              "      <td>Оленина</td>\n",
              "      <td>193</td>\n",
              "    </tr>\n",
              "    <tr>\n",
              "      <th>20</th>\n",
              "      <td>Конина</td>\n",
              "      <td>176</td>\n",
              "    </tr>\n",
              "    <tr>\n",
              "      <th>13</th>\n",
              "      <td>Гусь</td>\n",
              "      <td>125</td>\n",
              "    </tr>\n",
              "    <tr>\n",
              "      <th>35</th>\n",
              "      <td>Телятина</td>\n",
              "      <td>98</td>\n",
              "    </tr>\n",
              "    <tr>\n",
              "      <th>41</th>\n",
              "      <td>Ягнятина</td>\n",
              "      <td>76</td>\n",
              "    </tr>\n",
              "    <tr>\n",
              "      <th>9</th>\n",
              "      <td>Буйволятина</td>\n",
              "      <td>75</td>\n",
              "    </tr>\n",
              "    <tr>\n",
              "      <th>31</th>\n",
              "      <td>Перепел</td>\n",
              "      <td>54</td>\n",
              "    </tr>\n",
              "    <tr>\n",
              "      <th>17</th>\n",
              "      <td>Кабан</td>\n",
              "      <td>24</td>\n",
              "    </tr>\n",
              "    <tr>\n",
              "      <th>25</th>\n",
              "      <td>Лось</td>\n",
              "      <td>20</td>\n",
              "    </tr>\n",
              "    <tr>\n",
              "      <th>34</th>\n",
              "      <td>Страус</td>\n",
              "      <td>10</td>\n",
              "    </tr>\n",
              "    <tr>\n",
              "      <th>21</th>\n",
              "      <td>Косуля</td>\n",
              "      <td>8</td>\n",
              "    </tr>\n",
              "    <tr>\n",
              "      <th>26</th>\n",
              "      <td>Марал</td>\n",
              "      <td>7</td>\n",
              "    </tr>\n",
              "    <tr>\n",
              "      <th>24</th>\n",
              "      <td>Куропатка</td>\n",
              "      <td>7</td>\n",
              "    </tr>\n",
              "    <tr>\n",
              "      <th>39</th>\n",
              "      <td>Цесарка</td>\n",
              "      <td>7</td>\n",
              "    </tr>\n",
              "    <tr>\n",
              "      <th>38</th>\n",
              "      <td>Фазан</td>\n",
              "      <td>4</td>\n",
              "    </tr>\n",
              "    <tr>\n",
              "      <th>27</th>\n",
              "      <td>Медвежатина</td>\n",
              "      <td>4</td>\n",
              "    </tr>\n",
              "    <tr>\n",
              "      <th>15</th>\n",
              "      <td>Изюбр</td>\n",
              "      <td>3</td>\n",
              "    </tr>\n",
              "    <tr>\n",
              "      <th>46</th>\n",
              "      <td>свинина</td>\n",
              "      <td>3</td>\n",
              "    </tr>\n",
              "    <tr>\n",
              "      <th>42</th>\n",
              "      <td>Як</td>\n",
              "      <td>2</td>\n",
              "    </tr>\n",
              "    <tr>\n",
              "      <th>44</th>\n",
              "      <td>индейка</td>\n",
              "      <td>2</td>\n",
              "    </tr>\n",
              "    <tr>\n",
              "      <th>30</th>\n",
              "      <td>Парагвай</td>\n",
              "      <td>2</td>\n",
              "    </tr>\n",
              "    <tr>\n",
              "      <th>48</th>\n",
              "      <td>цыпленок</td>\n",
              "      <td>2</td>\n",
              "    </tr>\n",
              "    <tr>\n",
              "      <th>28</th>\n",
              "      <td>Нутрия</td>\n",
              "      <td>2</td>\n",
              "    </tr>\n",
              "    <tr>\n",
              "      <th>18</th>\n",
              "      <td>Кенгуру</td>\n",
              "      <td>2</td>\n",
              "    </tr>\n",
              "    <tr>\n",
              "      <th>14</th>\n",
              "      <td>Заяц</td>\n",
              "      <td>2</td>\n",
              "    </tr>\n",
              "    <tr>\n",
              "      <th>4</th>\n",
              "      <td>Feb-20</td>\n",
              "      <td>2</td>\n",
              "    </tr>\n",
              "    <tr>\n",
              "      <th>5</th>\n",
              "      <td>Mar-20</td>\n",
              "      <td>1</td>\n",
              "    </tr>\n",
              "    <tr>\n",
              "      <th>47</th>\n",
              "      <td>утка</td>\n",
              "      <td>1</td>\n",
              "    </tr>\n",
              "    <tr>\n",
              "      <th>2</th>\n",
              "      <td>125р.</td>\n",
              "      <td>1</td>\n",
              "    </tr>\n",
              "    <tr>\n",
              "      <th>45</th>\n",
              "      <td>свиниеа</td>\n",
              "      <td>1</td>\n",
              "    </tr>\n",
              "    <tr>\n",
              "      <th>3</th>\n",
              "      <td>295,00 руб|кг</td>\n",
              "      <td>1</td>\n",
              "    </tr>\n",
              "    <tr>\n",
              "      <th>43</th>\n",
              "      <td>говядина</td>\n",
              "      <td>1</td>\n",
              "    </tr>\n",
              "    <tr>\n",
              "      <th>8</th>\n",
              "      <td>Бобер</td>\n",
              "      <td>1</td>\n",
              "    </tr>\n",
              "    <tr>\n",
              "      <th>6</th>\n",
              "      <td>OFFAL EXP №4407 Аргентина</td>\n",
              "      <td>1</td>\n",
              "    </tr>\n",
              "    <tr>\n",
              "      <th>1</th>\n",
              "      <td>(OFFAL EXP №4407 Аргентина)</td>\n",
              "      <td>1</td>\n",
              "    </tr>\n",
              "    <tr>\n",
              "      <th>10</th>\n",
              "      <td>Глухарь</td>\n",
              "      <td>1</td>\n",
              "    </tr>\n",
              "    <tr>\n",
              "      <th>12</th>\n",
              "      <td>Говядина, полутуши, 1 категория,  охл., Россия...</td>\n",
              "      <td>1</td>\n",
              "    </tr>\n",
              "    <tr>\n",
              "      <th>36</th>\n",
              "      <td>Тетерев</td>\n",
              "      <td>1</td>\n",
              "    </tr>\n",
              "    <tr>\n",
              "      <th>19</th>\n",
              "      <td>Коза</td>\n",
              "      <td>1</td>\n",
              "    </tr>\n",
              "    <tr>\n",
              "      <th>32</th>\n",
              "      <td>Рябчик</td>\n",
              "      <td>1</td>\n",
              "    </tr>\n",
              "    <tr>\n",
              "      <th>0</th>\n",
              "      <td>Лопаточная часть (Chuck) буйвол</td>\n",
              "      <td>1</td>\n",
              "    </tr>\n",
              "  </tbody>\n",
              "</table>\n",
              "</div>\n",
              "      <button class=\"colab-df-convert\" onclick=\"convertToInteractive('df-fa4deb47-0647-42dc-86e0-f4642ebc6752')\"\n",
              "              title=\"Convert this dataframe to an interactive table.\"\n",
              "              style=\"display:none;\">\n",
              "        \n",
              "  <svg xmlns=\"http://www.w3.org/2000/svg\" height=\"24px\"viewBox=\"0 0 24 24\"\n",
              "       width=\"24px\">\n",
              "    <path d=\"M0 0h24v24H0V0z\" fill=\"none\"/>\n",
              "    <path d=\"M18.56 5.44l.94 2.06.94-2.06 2.06-.94-2.06-.94-.94-2.06-.94 2.06-2.06.94zm-11 1L8.5 8.5l.94-2.06 2.06-.94-2.06-.94L8.5 2.5l-.94 2.06-2.06.94zm10 10l.94 2.06.94-2.06 2.06-.94-2.06-.94-.94-2.06-.94 2.06-2.06.94z\"/><path d=\"M17.41 7.96l-1.37-1.37c-.4-.4-.92-.59-1.43-.59-.52 0-1.04.2-1.43.59L10.3 9.45l-7.72 7.72c-.78.78-.78 2.05 0 2.83L4 21.41c.39.39.9.59 1.41.59.51 0 1.02-.2 1.41-.59l7.78-7.78 2.81-2.81c.8-.78.8-2.07 0-2.86zM5.41 20L4 18.59l7.72-7.72 1.47 1.35L5.41 20z\"/>\n",
              "  </svg>\n",
              "      </button>\n",
              "      \n",
              "  <style>\n",
              "    .colab-df-container {\n",
              "      display:flex;\n",
              "      flex-wrap:wrap;\n",
              "      gap: 12px;\n",
              "    }\n",
              "\n",
              "    .colab-df-convert {\n",
              "      background-color: #E8F0FE;\n",
              "      border: none;\n",
              "      border-radius: 50%;\n",
              "      cursor: pointer;\n",
              "      display: none;\n",
              "      fill: #1967D2;\n",
              "      height: 32px;\n",
              "      padding: 0 0 0 0;\n",
              "      width: 32px;\n",
              "    }\n",
              "\n",
              "    .colab-df-convert:hover {\n",
              "      background-color: #E2EBFA;\n",
              "      box-shadow: 0px 1px 2px rgba(60, 64, 67, 0.3), 0px 1px 3px 1px rgba(60, 64, 67, 0.15);\n",
              "      fill: #174EA6;\n",
              "    }\n",
              "\n",
              "    [theme=dark] .colab-df-convert {\n",
              "      background-color: #3B4455;\n",
              "      fill: #D2E3FC;\n",
              "    }\n",
              "\n",
              "    [theme=dark] .colab-df-convert:hover {\n",
              "      background-color: #434B5C;\n",
              "      box-shadow: 0px 1px 3px 1px rgba(0, 0, 0, 0.15);\n",
              "      filter: drop-shadow(0px 1px 2px rgba(0, 0, 0, 0.3));\n",
              "      fill: #FFFFFF;\n",
              "    }\n",
              "  </style>\n",
              "\n",
              "      <script>\n",
              "        const buttonEl =\n",
              "          document.querySelector('#df-fa4deb47-0647-42dc-86e0-f4642ebc6752 button.colab-df-convert');\n",
              "        buttonEl.style.display =\n",
              "          google.colab.kernel.accessAllowed ? 'block' : 'none';\n",
              "\n",
              "        async function convertToInteractive(key) {\n",
              "          const element = document.querySelector('#df-fa4deb47-0647-42dc-86e0-f4642ebc6752');\n",
              "          const dataTable =\n",
              "            await google.colab.kernel.invokeFunction('convertToInteractive',\n",
              "                                                     [key], {});\n",
              "          if (!dataTable) return;\n",
              "\n",
              "          const docLinkHtml = 'Like what you see? Visit the ' +\n",
              "            '<a target=\"_blank\" href=https://colab.research.google.com/notebooks/data_table.ipynb>data table notebook</a>'\n",
              "            + ' to learn more about interactive tables.';\n",
              "          element.innerHTML = '';\n",
              "          dataTable['output_type'] = 'display_data';\n",
              "          await google.colab.output.renderOutput(dataTable, element);\n",
              "          const docLink = document.createElement('div');\n",
              "          docLink.innerHTML = docLinkHtml;\n",
              "          element.appendChild(docLink);\n",
              "        }\n",
              "      </script>\n",
              "    </div>\n",
              "  </div>\n",
              "  "
            ]
          },
          "metadata": {},
          "execution_count": 7
        }
      ],
      "source": [
        "inf"
      ]
    },
    {
      "cell_type": "code",
      "execution_count": null,
      "metadata": {
        "id": "-nuoEFJlkyMm"
      },
      "outputs": [],
      "source": [
        "data = data.apply(lambda x: x.str.lower() if x.dtype == 'object' else x)"
      ]
    },
    {
      "cell_type": "code",
      "execution_count": null,
      "metadata": {
        "id": "ZD75WKllkyPs"
      },
      "outputs": [],
      "source": [
        "data = data.query('mtype in [\"баранина\", \"говядина\", \"индейка\", \"кура\", \"свинина\", \"цыпленок\"]')"
      ]
    },
    {
      "cell_type": "code",
      "execution_count": null,
      "metadata": {
        "colab": {
          "base_uri": "https://localhost:8080/"
        },
        "id": "cwZ8sCcCkySO",
        "outputId": "cbac078e-a2ba-4a86-a8b3-e41bf0d690e1"
      },
      "outputs": [
        {
          "output_type": "execute_result",
          "data": {
            "text/plain": [
              "array(['баранина', 'индейка', 'говядина', 'свинина', 'кура', 'цыпленок'],\n",
              "      dtype=object)"
            ]
          },
          "metadata": {},
          "execution_count": 10
        }
      ],
      "source": [
        "data['mtype'].unique()"
      ]
    },
    {
      "cell_type": "markdown",
      "metadata": {
        "id": "8Ac3n6W_k90g"
      },
      "source": [
        "Выводы по анализу данных:\n",
        "1. Есть позиции, где данные плохо заполнены, но их не так много + они не выведут какую-то категорию в значение 500 наименований\n",
        "2. после обработки данных у нас получается следующее количество категорий: \n",
        "    * баранина\n",
        "    * говядина\n",
        "    * индейка\n",
        "    * кура\n",
        "    * свинина\n",
        "    * цыпленок"
      ]
    },
    {
      "cell_type": "code",
      "execution_count": null,
      "metadata": {
        "id": "ax8VOctPkyVB"
      },
      "outputs": [],
      "source": [
        "# Выбираем модель классификации\n",
        "class ProductClassificationModel(nn.Module):\n",
        "    def __init__(self, input_size, hidden_size, num_classes):\n",
        "        super(ProductClassificationModel, self).__init__()\n",
        "        self.hidden_size = hidden_size\n",
        "        self.embedding = nn.Embedding(input_size, hidden_size)\n",
        "        self.gru = nn.GRU(hidden_size, hidden_size, batch_first=True)\n",
        "        self.fc = nn.Linear(hidden_size, num_classes)\n",
        "    \n",
        "    def forward(self, x):\n",
        "        embedded = self.embedding(x)\n",
        "        output, _ = self.gru(embedded)\n",
        "        output = self.fc(output[:, -1, :])\n",
        "        return output\n"
      ]
    },
    {
      "cell_type": "code",
      "execution_count": null,
      "metadata": {
        "id": "8GdahI3ckyYO"
      },
      "outputs": [],
      "source": [
        "# задаем классы датасета\n",
        "class ProductDataset(Dataset):\n",
        "    def __init__(self, data, labels, char_to_index):\n",
        "        self.data = data\n",
        "        self.labels = labels\n",
        "        self.char_to_index = char_to_index\n",
        "    \n",
        "    def __len__(self):\n",
        "        return len(self.data)\n",
        "    \n",
        "    def __getitem__(self, index):\n",
        "        text = self.data[index]\n",
        "        label = self.labels[index]\n",
        "        \n",
        "        # Convert text to numerical sequence\n",
        "        sequence = [self.char_to_index[char] for char in text]\n",
        "        \n",
        "        return torch.tensor(sequence, dtype=torch.long), torch.tensor(label, dtype=torch.long)\n"
      ]
    },
    {
      "cell_type": "code",
      "execution_count": null,
      "metadata": {
        "id": "G1JF-724kybd"
      },
      "outputs": [],
      "source": [
        "# определеяем данные и необходимые классы\n",
        "train_data = data['text'].tolist()\n",
        "train_labels = data['mtype'].tolist()"
      ]
    },
    {
      "cell_type": "markdown",
      "metadata": {
        "id": "4zulfk-PkK2_"
      },
      "source": []
    },
    {
      "cell_type": "code",
      "execution_count": null,
      "metadata": {
        "id": "fPxKNc9Ulhav"
      },
      "outputs": [],
      "source": [
        "# создаем словарь из букв и присваиваем индексы\n",
        "chars = sorted(list(set(\"\".join(train_data))))\n",
        "char_to_index = {char: index for index, char in enumerate(chars)}"
      ]
    },
    {
      "cell_type": "code",
      "execution_count": null,
      "metadata": {
        "id": "gcS798VilhdU"
      },
      "outputs": [],
      "source": [
        "# конвертируем в векторные значения\n",
        "selected_products = [\"баранина\", \"говядина\", \"индейка\", \"кура\", \"свинина\", \"цыпленок\"]\n",
        "label_to_index = {label: index for index, label in enumerate(selected_products)}\n",
        "train_labels = [label_to_index[label] for label in train_labels]"
      ]
    },
    {
      "cell_type": "code",
      "execution_count": null,
      "metadata": {
        "id": "vxHeknUznmDp"
      },
      "outputs": [],
      "source": [
        "# разбиваем на трейн и тест\n",
        "train_data, test_data, train_labels, test_labels = train_test_split(train_data, train_labels, test_size=0.2, random_state=42)\n"
      ]
    },
    {
      "cell_type": "code",
      "execution_count": null,
      "metadata": {
        "id": "B-l_YC6Elhgk"
      },
      "outputs": [],
      "source": [
        "# задаем параметры модели\n",
        "input_size = len(chars)\n",
        "hidden_size = 128\n",
        "num_classes = len(selected_products)"
      ]
    },
    {
      "cell_type": "code",
      "execution_count": null,
      "metadata": {
        "id": "Yc4645vtlhjb"
      },
      "outputs": [],
      "source": [
        "# определяем модель\n",
        "model = ProductClassificationModel(input_size, hidden_size, num_classes)"
      ]
    },
    {
      "cell_type": "code",
      "execution_count": null,
      "metadata": {
        "id": "oL57c83qlhmc"
      },
      "outputs": [],
      "source": [
        "# задаем функцию потерь и выбираем оптимизатор\n",
        "criterion = nn.CrossEntropyLoss()\n",
        "optimizer = optim.Adam(model.parameters(), lr=0.05)"
      ]
    },
    {
      "cell_type": "code",
      "execution_count": null,
      "metadata": {
        "id": "lMH4CWQylhpf"
      },
      "outputs": [],
      "source": [
        "# Create the dataset and dataloader\n",
        "#train_dataset = ProductDataset(train_data, train_labels, char_to_index)\n",
        "#train_dataloader = DataLoader(train_dataset, batch_size=32, shuffle=True, collate_fn=lambda x: (pad_sequence([i[0] for i in x], batch_first=True), torch.stack([i[1] for i in x])))\n"
      ]
    },
    {
      "cell_type": "code",
      "execution_count": null,
      "metadata": {
        "id": "oS8CNn71nMxM"
      },
      "outputs": [],
      "source": [
        "# преобразуем наши трейн и тест датасеты\n",
        "train_dataset = ProductDataset(train_data, train_labels, char_to_index)\n",
        "train_dataloader = DataLoader(train_dataset, batch_size=32, shuffle=True, \n",
        "                              collate_fn=lambda x: (pad_sequence([i[0] for i in x], batch_first=True), torch.stack([i[1] for i in x])))\n",
        "\n",
        "test_dataset = ProductDataset(test_data, test_labels, char_to_index)\n",
        "test_dataloader = DataLoader(test_dataset, batch_size=32, shuffle=False, \n",
        "                             collate_fn=lambda x: (pad_sequence([i[0] for i in x], batch_first=True), torch.stack([i[1] for i in x])))\n"
      ]
    },
    {
      "cell_type": "code",
      "execution_count": null,
      "metadata": {
        "id": "wzgpJsXlnM0Q"
      },
      "outputs": [],
      "source": []
    },
    {
      "cell_type": "code",
      "execution_count": null,
      "metadata": {
        "colab": {
          "base_uri": "https://localhost:8080/"
        },
        "id": "U4EhwE8ilhsy",
        "outputId": "f1adb4a3-1f3d-457e-bdc9-df92dbc2e1cd"
      },
      "outputs": [
        {
          "output_type": "stream",
          "name": "stdout",
          "text": [
            "Epoch 1/2, Loss: 407.30579176545143\n",
            "Epoch 2/2, Loss: 324.6654616892338\n",
            "CPU times: user 11min 49s, sys: 9.87 s, total: 11min 58s\n",
            "Wall time: 12min 10s\n"
          ]
        }
      ],
      "source": [
        "%%time\n",
        "# обучаем модель\n",
        "num_epochs = 2 \n",
        "for epoch in range(num_epochs):\n",
        "    running_loss = 0.0\n",
        "    for inputs, labels in train_dataloader:\n",
        "        optimizer.zero_grad()\n",
        "        \n",
        "        outputs = model(inputs)\n",
        "        loss = criterion(outputs, labels)\n",
        "        \n",
        "        loss.backward()\n",
        "        optimizer.step()\n",
        "        \n",
        "        running_loss += loss.item()\n",
        "    \n",
        "    print(f\"Epoch {epoch+1}/{num_epochs}, Loss: {running_loss}\")\n"
      ]
    },
    {
      "cell_type": "code",
      "source": [
        "unknown_char_index = len(char_to_index) + 1"
      ],
      "metadata": {
        "id": "BMF36LwIxObS"
      },
      "execution_count": null,
      "outputs": []
    },
    {
      "cell_type": "code",
      "execution_count": null,
      "metadata": {
        "colab": {
          "base_uri": "https://localhost:8080/"
        },
        "id": "vWDrRocDlhwC",
        "outputId": "733e08d2-775b-49a1-db53-596227f589c3"
      },
      "outputs": [
        {
          "output_type": "stream",
          "name": "stdout",
          "text": [
            "Test Accuracy: 83.19%\n"
          ]
        }
      ],
      "source": [
        "# тестируем модель\n",
        "model.eval()\n",
        "correct = 0\n",
        "total = 0\n",
        "with torch.no_grad():\n",
        "    for inputs, labels in test_dataloader:\n",
        "        outputs = model(inputs)\n",
        "        _, predicted = torch.max(outputs.data, 1)\n",
        "        total += labels.size(0)\n",
        "        correct += (predicted == labels).sum().item()\n",
        "\n",
        "accuracy = 100 * correct / total\n",
        "print(f\"Test Accuracy: {accuracy:.2f}%\")"
      ]
    },
    {
      "cell_type": "code",
      "execution_count": null,
      "metadata": {
        "colab": {
          "base_uri": "https://localhost:8080/"
        },
        "id": "DLsjuiyo313e",
        "outputId": "77d9d4bc-2ac4-4b6e-c548-f7b35b34939b"
      },
      "outputs": [
        {
          "output_type": "stream",
          "name": "stderr",
          "text": [
            "[nltk_data] Downloading package punkt to /root/nltk_data...\n",
            "[nltk_data]   Package punkt is already up-to-date!\n"
          ]
        },
        {
          "output_type": "execute_result",
          "data": {
            "text/plain": [
              "True"
            ]
          },
          "metadata": {},
          "execution_count": 24
        }
      ],
      "source": [
        "\n",
        "nltk.download('punkt')"
      ]
    },
    {
      "cell_type": "code",
      "execution_count": null,
      "metadata": {
        "id": "vL86qkOi11tG"
      },
      "outputs": [],
      "source": [
        "def preprocess_text(text):\n",
        "    \n",
        "    text = re.sub(r\"[^а-яА-Яa-zA-Z\\s]\", \"\", text)\n",
        "\n",
        "    text = text.lower()\n",
        "\n",
        "    text = re.sub(r\"\\s+\", \" \", text).strip()\n",
        "\n",
        "    return text"
      ]
    },
    {
      "cell_type": "code",
      "execution_count": null,
      "metadata": {
        "id": "2KrjAbT02Dqj"
      },
      "outputs": [],
      "source": [
        "morph = pymorphy2.MorphAnalyzer()\n",
        "\n",
        "def tokenize_and_encode(text):\n",
        "    tokens = [char_to_index.get(char, unknown_char_index) for char in text]\n",
        "    return tokens\n",
        "\n",
        "\n",
        "\n"
      ]
    },
    {
      "cell_type": "code",
      "execution_count": null,
      "metadata": {
        "colab": {
          "base_uri": "https://localhost:8080/"
        },
        "id": "1D2KTtS41hwR",
        "outputId": "381fea49-697c-427f-db1f-5a01c177ce48"
      },
      "outputs": [
        {
          "output_type": "stream",
          "name": "stdout",
          "text": [
            "                                                text  \\\n",
            "0  свинина блочная сорт в наличии ооо агросоюз ре...   \n",
            "1  куриная разделка продам кур и куриную разделку...   \n",
            "2  говяжью мукозу продам говяжью мукозу в охл и з...   \n",
            "\n",
            "                                        encoded_text predicted_product  \n",
            "0  [97, 82, 88, 93, 88, 93, 80, 2, 81, 91, 94, 10...           свинина  \n",
            "1  [90, 99, 96, 88, 93, 80, 111, 2, 96, 80, 87, 8...              кура  \n",
            "2  [83, 94, 82, 111, 86, 108, 110, 2, 92, 99, 90,...          говядина  \n"
          ]
        }
      ],
      "source": [
        "# тестируем доп выборку\n",
        "test_samples = [\n",
        "    \"Свинина блочная 2 сорт в наличии ООО 'АгроСоюз' реализует блочную свинину 2 сорт (80/20). Свободный объем 8 тонн. Самовывоз или доставка. Все подробности по телефону.\",\n",
        "    \"Куриная разделка Продам кур и куриную разделку гост и халяль по хорошей цене .Тел:\",\n",
        "    \"Говяжью мукозу Продам говяжью мукозу в охл и замороженном виде. Есть объем.\"\n",
        "]\n",
        "\n",
        "# создаем для неё датафрейм\n",
        "df = pd.DataFrame({\"text\": test_samples})\n",
        "\n",
        "# Для увеличения точности работы модели проводим обработку предварительную\n",
        "df[\"text\"] = df[\"text\"].apply(preprocess_text)\n",
        "df[\"encoded_text\"] = df[\"text\"].apply(tokenize_and_encode)\n",
        "class TextDataset(Dataset):\n",
        "    def __init__(self, dataframe):\n",
        "        self.data = dataframe[\"encoded_text\"].tolist()\n",
        "\n",
        "    def __getitem__(self, index):\n",
        "        return self.data[index]\n",
        "\n",
        "    def __len__(self):\n",
        "        return len(self.data)\n",
        "\n",
        "# преобразовываем датасет\n",
        "test_dataset = TextDataset(df)\n",
        "\n",
        "# задаем параметры\n",
        "batch_size = 1\n",
        "test_dataloader = DataLoader(test_dataset, batch_size=batch_size, shuffle=False)\n",
        "\n",
        "# переводим модель в режим предсказания, а не обучения\n",
        "model.eval()\n",
        "\n",
        "# создаем куда предсказывать\n",
        "predictions = []\n",
        "\n",
        "model.eval()\n",
        "with torch.no_grad():\n",
        "    for inputs in test_dataloader:\n",
        "        inputs = torch.tensor(inputs, dtype=torch.long)  \n",
        "        inputs = inputs.unsqueeze(0)  \n",
        "        outputs = model(inputs)\n",
        "        predicted_labels = [selected_products[index.item()] for index in outputs.argmax(dim=1)]\n",
        "        predictions.extend(predicted_labels)\n",
        "\n",
        "df[\"predicted_product\"] = predictions\n",
        "\n",
        "print(df)\n"
      ]
    },
    {
      "cell_type": "markdown",
      "metadata": {
        "id": "3cnfZY2snEWV"
      },
      "source": [
        "Выводы:\n",
        "1. Аккураси на тестовой выборке 80%+, значение можно увеличить, но тогда модель будет значительно дольще обучаться на текущих мощностях, сейчас lr = 0.05, при значении 0.1 был 50%, вариант улучшения модели по гиперпараметрам - lr = 0.01 и ниже, так же увеличение количество эпох может позволить улучшить результат\n",
        "2. при попадании новых данных для разделения на категории можно ещё сильнее улучшить их предварительную обработку функциями, наприме, была идея на тестовых фразах добавить лемматизацию, необходимо обсудить этот момент с тим лидом/старшим дс специалистом"
      ]
    },
    {
      "cell_type": "code",
      "execution_count": null,
      "metadata": {
        "id": "c_-va9nvoAub"
      },
      "outputs": [],
      "source": []
    }
  ],
  "metadata": {
    "colab": {
      "provenance": [],
      "mount_file_id": "1Ch8Hn3gnaiYDSfasxTCfW_da0mL3fMWx",
      "authorship_tag": "ABX9TyOshBXe770/q1Bvyuco4XZV",
      "include_colab_link": true
    },
    "kernelspec": {
      "display_name": "Python 3",
      "name": "python3"
    },
    "language_info": {
      "name": "python"
    }
  },
  "nbformat": 4,
  "nbformat_minor": 0
}